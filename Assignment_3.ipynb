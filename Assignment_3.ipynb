{
 "cells": [
  {
   "cell_type": "code",
   "execution_count": 168,
   "metadata": {},
   "outputs": [
    {
     "data": {
      "text/plain": [
       "10"
      ]
     },
     "execution_count": 168,
     "metadata": {},
     "output_type": "execute_result"
    }
   ],
   "source": [
    "#1.1\n",
    "def myreduce(arr):   #function declaration\n",
    "    if(len(arr)==1):    #checking if it is equal to 1\n",
    "        return arr       #return arr value\n",
    "    summ = sum(arr[0:2])     #adding numbers \n",
    "    arr[0:2] = [summ]          #writing first 3 numbers as their sum\n",
    "    myreduce(arr)       #calling again fnuction myreduce\n",
    "    return arr[0]       #return arr[0]\n",
    "\n",
    "# Calling\n",
    "myreduce([1,2,3,4])    \n"
   ]
  },
  {
   "cell_type": "code",
   "execution_count": 169,
   "metadata": {},
   "outputs": [
    {
     "data": {
      "text/plain": [
       "[0, 2, 4, 6, 8]"
      ]
     },
     "execution_count": 169,
     "metadata": {},
     "output_type": "execute_result"
    }
   ],
   "source": [
    "#1.2\n",
    "\n",
    "def myfilter(func,lst):       #function declaration\n",
    "    l = []        #list\n",
    "    for x in lst:        #checking for x in lst\n",
    "        if func(x):                #function calling to check x is even or not\n",
    "            l.append(x)      #append to list\n",
    "    return l\n",
    "\n",
    "def even_check(n):\n",
    "    if n%2==0:            #checking if even\n",
    "        return True           #returning true\n",
    "    else:                #else returning false\n",
    "        return False\n",
    "\n",
    "myfilter(even_check,range(10))\n",
    "    "
   ]
  },
  {
   "cell_type": "code",
   "execution_count": null,
   "metadata": {},
   "outputs": [],
   "source": []
  },
  {
   "cell_type": "code",
   "execution_count": 165,
   "metadata": {},
   "outputs": [
    {
     "name": "stdout",
     "output_type": "stream",
     "text": [
      "['A', 'C', 'A', 'D', 'G', 'I', 'L', 'D']\n",
      "['x', 'xx', 'xxx', 'xxxx', 'y', 'yy', 'yyy', 'yyyy', 'z', 'zz', 'zzz', 'zzzz']\n",
      "[[2], [3], [4], [3], [4], [5], [4], [5], [6]]\n",
      "[[2, 3, 4, 5], [3, 4, 5, 6], [4, 5, 6, 7], [5, 6, 7, 8]]\n",
      "[(1, 1), (2, 1), (3, 1), (1, 2), (2, 2), (3, 2), (1, 3), (2, 3), (3, 3)]\n"
     ]
    }
   ],
   "source": [
    "#2\n",
    "l1 = [x for x in 'ACADGILD']    #list comprehension to get letters\n",
    "print(l1)                         #printing\n",
    "l2 = [x*i for x in ['x','y','z'] for i in range(1,5)]    #list comprehension to get x.,xx,xxx,...\n",
    "print(l2)                                        #printing\n",
    "l3 = [[x+y] for y in range(0,3) for x in range(2,5)]    #list comprehension \n",
    "print(l3)                                   #printing\n",
    "l4 = [[x,x+1,x+2,x+3] for x in range(2,6)]             #list comprehension \n",
    "print(l4)                                   #printing\n",
    "l5 = [(x,y) for y in range(1,4) for x in range(1,4)]       #list comprehension 1\n",
    "print(l5)                     #printing"
   ]
  },
  {
   "cell_type": "code",
   "execution_count": 163,
   "metadata": {},
   "outputs": [],
   "source": [
    "#3\n",
    "def longestWord(word_list):       #function declaration  \n",
    "    d = {len(x):x for x in word_list}     #lenghts of all words\n",
    "    maxx = max(d)     #finding maximum length\n",
    "    name = d[maxx]    #word of maximum length\n",
    "    return name       #returning word"
   ]
  },
  {
   "cell_type": "code",
   "execution_count": 142,
   "metadata": {},
   "outputs": [
    {
     "data": {
      "text/plain": [
       "'asdasdasd'"
      ]
     },
     "execution_count": 142,
     "metadata": {},
     "output_type": "execute_result"
    }
   ],
   "source": [
    "longestWord(['amit','sumit','asdasdasd','asd','aeraedc','asd','a'])"
   ]
  },
  {
   "cell_type": "code",
   "execution_count": null,
   "metadata": {},
   "outputs": [],
   "source": []
  }
 ],
 "metadata": {
  "kernelspec": {
   "display_name": "Python 3",
   "language": "python",
   "name": "python3"
  },
  "language_info": {
   "codemirror_mode": {
    "name": "ipython",
    "version": 3
   },
   "file_extension": ".py",
   "mimetype": "text/x-python",
   "name": "python",
   "nbconvert_exporter": "python",
   "pygments_lexer": "ipython3",
   "version": "3.7.0"
  }
 },
 "nbformat": 4,
 "nbformat_minor": 2
}
